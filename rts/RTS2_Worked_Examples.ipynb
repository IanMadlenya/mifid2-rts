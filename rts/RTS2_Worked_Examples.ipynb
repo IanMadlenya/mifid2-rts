{
 "cells": [
  {
   "cell_type": "markdown",
   "metadata": {},
   "source": [
    "MiFID II classification of trades using the RTS 2 Annex 3 taxonomy."
   ]
  },
  {
   "cell_type": "code",
   "execution_count": 1,
   "metadata": {
    "collapsed": false
   },
   "outputs": [],
   "source": [
    "#import sys\n",
    "#sys.path.append('/home/bbadger/bag/data/dev/mifid2-rts/mifid2-rts/rts')\n",
    "import rts2_annex3\n",
    "import datetime"
   ]
  },
  {
   "cell_type": "code",
   "execution_count": 2,
   "metadata": {
    "collapsed": false
   },
   "outputs": [],
   "source": [
    "class SampleTrade(object):\n",
    "    pass\n",
    "\n",
    "sample_trade = SampleTrade()\n",
    "sample_trade.asset_class_name = 'Foreign Exchange Derivatives'\n",
    "sample_trade.sub_asset_class_name= 'Deliverable FX options (DO)'\n",
    "sample_trade.underlying_currency_pair = ('GBP', 'USD')\n",
    "sample_trade.from_date = datetime.date(2017, 8, 13)\n",
    "sample_trade.to_date = datetime.date(2017, 10, 12)"
   ]
  },
  {
   "cell_type": "code",
   "execution_count": 3,
   "metadata": {
    "collapsed": true
   },
   "outputs": [],
   "source": [
    "sample_classification = rts2_annex3.class_root.classification_for(sample_trade)"
   ]
  },
  {
   "cell_type": "code",
   "execution_count": 4,
   "metadata": {
    "collapsed": false
   },
   "outputs": [
    {
     "data": {
      "text/plain": [
       "{'Asset class': 'Foreign Exchange Derivatives',\n",
       " 'RTS2 version': 'Brussels, 14.7.2016 C(2016) 4301 final ANNEXES 1 to 4',\n",
       " 'Segmentation criterion 1': \"('GBP', 'USD')\",\n",
       " 'Segmentation criterion 1 description': 'underlying currency pair defined as combination of the two currencies underlying the derivative contract',\n",
       " 'Segmentation criterion 2': 'Maturity bucket 2: 1 week to 3 months',\n",
       " 'Segmentation criterion 2 description': 'time to maturity bucket of the swap defined as follows:',\n",
       " 'Sub-asset class': 'Deliverable FX options (DO)'}"
      ]
     },
     "execution_count": 4,
     "metadata": {},
     "output_type": "execute_result"
    }
   ],
   "source": [
    "sample_classification.classification_dict()"
   ]
  },
  {
   "cell_type": "code",
   "execution_count": 5,
   "metadata": {
    "collapsed": true
   },
   "outputs": [],
   "source": [
    "import ipywidgets as widgets"
   ]
  },
  {
   "cell_type": "code",
   "execution_count": 6,
   "metadata": {
    "collapsed": false
   },
   "outputs": [
    {
     "data": {
      "text/plain": [
       "['Bonds (all bond types except ETCs and ETNs)',\n",
       " 'Structured Finance Products (SFPs)',\n",
       " 'Securitised Derivatives',\n",
       " 'Interest Rate Derivatives',\n",
       " 'Equity Derivatives',\n",
       " 'Commodity Derivatives',\n",
       " 'Foreign Exchange Derivatives',\n",
       " 'Credit Derivatives',\n",
       " 'C10 derivatives',\n",
       " 'Financial contracts for differences (CFDs)',\n",
       " 'Emission allowances',\n",
       " 'Emission allowance derivatives']"
      ]
     },
     "execution_count": 6,
     "metadata": {},
     "output_type": "execute_result"
    }
   ],
   "source": [
    "asset_classes = rts2_annex3.class_root.asset_classes\n",
    "asset_class_names = [an_asset_class.name for an_asset_class in asset_classes]\n",
    "asset_class_names"
   ]
  },
  {
   "cell_type": "code",
   "execution_count": 11,
   "metadata": {
    "collapsed": false
   },
   "outputs": [],
   "source": [
    "asset_class_widget = widgets.Dropdown(\n",
    "    options=asset_class_names,\n",
    "    value=asset_class_names[0],\n",
    "    description='Asset Classes:',\n",
    "    disabled=False,\n",
    ")\n",
    "asset_class_widget"
   ]
  },
  {
   "cell_type": "code",
   "execution_count": 12,
   "metadata": {
    "collapsed": false
   },
   "outputs": [
    {
     "data": {
      "text/plain": [
       "['Non-deliverable forward (NDF)',\n",
       " 'Deliverable forward (DF)',\n",
       " 'Non-Deliverable FX options (NDO)',\n",
       " 'Deliverable FX options (DO)',\n",
       " 'Non-Deliverable FX swaps (NDS)',\n",
       " 'Deliverable FX swaps (DS)',\n",
       " 'FX futures',\n",
       " 'Other Foreign Exchange Derivatives']"
      ]
     },
     "execution_count": 12,
     "metadata": {},
     "output_type": "execute_result"
    }
   ],
   "source": [
    "selected_asset_class = rts2_annex3.class_root.asset_class_by_name(asset_class_widget.value)\n",
    "sub_asset_class_names = [sub_asset_class.name for sub_asset_class in selected_asset_class.sub_asset_classes]\n",
    "sub_asset_class_names"
   ]
  },
  {
   "cell_type": "code",
   "execution_count": 13,
   "metadata": {
    "collapsed": true
   },
   "outputs": [],
   "source": [
    "asset_class_widget = widgets.Dropdown(\n",
    "    options=sub_asset_class_names,\n",
    "    value=sub_asset_class_names[0],\n",
    "    description='Sub-asset Classes:',\n",
    "    disabled=False,\n",
    ")\n",
    "asset_class_widget"
   ]
  }
 ],
 "metadata": {
  "kernelspec": {
   "display_name": "Python 3",
   "language": "python",
   "name": "python3"
  },
  "language_info": {
   "codemirror_mode": {
    "name": "ipython",
    "version": 3
   },
   "file_extension": ".py",
   "mimetype": "text/x-python",
   "name": "python",
   "nbconvert_exporter": "python",
   "pygments_lexer": "ipython3",
   "version": "3.5.3"
  },
  "widgets": {
   "state": {
    "263ae67e8866423d9ad4c5f026cd9049": {
     "views": [
      {
       "cell_index": 9
      }
     ]
    },
    "9de82d18a721480998a11f23c45d61aa": {
     "views": [
      {
       "cell_index": 7
      }
     ]
    }
   },
   "version": "1.2.0"
  }
 },
 "nbformat": 4,
 "nbformat_minor": 2
}
