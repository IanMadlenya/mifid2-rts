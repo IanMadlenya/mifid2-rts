{
 "cells": [
  {
   "cell_type": "markdown",
   "metadata": {},
   "source": [
    "## MiFID II classification of trades using the RTS 2 Annex 3 taxonomy.\n",
    "\n",
    "Governments would prefer to avoid another financial crisis like the one in 2008 and beleive that making the big players operate in a more open and transparent way will help avoid another crash.\n",
    "\n",
    "Markets in Financial Instruments Directive II (MiFID II) is an EU law which has market transparency as its key objective.  The predecessor law, MiFID I, only looked at a part of what banking firms do.  MiFID II aims to cover most mainstream activity.\n",
    "\n",
    "Governments rely on regulators to make sure that their laws are being followed.  For MiFID II the primary regulator is ESMA.  ESMA have produced a number of Regulatory Technical Standard (RTS) documents which aim to explain what banking firms must do to comply with the MiFID II law.\n",
    "\n",
    "One of the RTS documents, RTS 2, explains how different kinds of trading activity can be identified.  Having a clear way to say what has been traded is an important part of making the markets more transparent.\n",
    "\n",
    "Some kinds of trading activity is already pretty transparent, for example buying and selling shares in a public company.  Trades of this kind are mostly done using a public exchange, such as the New York or London stock exchanges.  The 'price' for a given stock is simply the amount of money paid in the most recent trade and this price is made public by the exchange so everyone can see what the latest price is.  It is pretty easy to identify what has been traded because each stock has a identifier, e.g. 'AAPL' identifies Apple Inc. shares.\n",
    "\n",
    "Not all trades happen on public exchanges.  Many trades happen directly between two parties and these are known as over the counter (OTC) trades.  Each OTC trade can be fine tuned, for example setting payment dates and interest rates.  The fine tuning of OTC deals makes it hard to identify what has been traded, but this is where RTS 2 comes in. \n",
    "\n",
    "The easyest way to understand what RTS 2 is all about is to use it to classify some trades, and you can do just that below.\n"
   ]
  },
  {
   "cell_type": "code",
   "execution_count": 2,
   "metadata": {
    "collapsed": false
   },
   "outputs": [],
   "source": [
    "#import sys\n",
    "#sys.path.append('/home/bbadger/bag/data/dev/mifid2-rts/mifid2-rts/rts')\n",
    "import rts2_annex3\n",
    "import datetime"
   ]
  },
  {
   "cell_type": "code",
   "execution_count": 3,
   "metadata": {
    "collapsed": false
   },
   "outputs": [],
   "source": [
    "class SampleTrade(object):\n",
    "    pass\n",
    "\n",
    "sample_trade = SampleTrade()\n",
    "sample_trade.asset_class_name = 'Foreign Exchange Derivatives'\n",
    "sample_trade.sub_asset_class_name= 'Deliverable FX options (DO)'\n",
    "sample_trade.underlying_currency_pair = ('GBP', 'USD')\n",
    "sample_trade.from_date = datetime.date(2017, 8, 13)\n",
    "sample_trade.to_date = datetime.date(2017, 10, 12)"
   ]
  },
  {
   "cell_type": "code",
   "execution_count": 4,
   "metadata": {
    "collapsed": true
   },
   "outputs": [],
   "source": [
    "sample_classification = rts2_annex3.class_root.classification_for(sample_trade)"
   ]
  },
  {
   "cell_type": "code",
   "execution_count": 5,
   "metadata": {
    "collapsed": false
   },
   "outputs": [
    {
     "data": {
      "text/plain": [
       "{'Asset class': 'Foreign Exchange Derivatives',\n",
       " 'RTS2 version': 'Brussels, 14.7.2016 C(2016) 4301 final ANNEXES 1 to 4',\n",
       " 'Segmentation criterion 1': \"('GBP', 'USD')\",\n",
       " 'Segmentation criterion 1 description': 'underlying currency pair defined as combination of the two currencies underlying the derivative contract',\n",
       " 'Segmentation criterion 2': 'Maturity bucket 2: 1 week to 3 months',\n",
       " 'Segmentation criterion 2 description': 'time to maturity bucket of the swap defined as follows:',\n",
       " 'Sub-asset class': 'Deliverable FX options (DO)'}"
      ]
     },
     "execution_count": 5,
     "metadata": {},
     "output_type": "execute_result"
    }
   ],
   "source": [
    "sample_classification.classification_dict()"
   ]
  },
  {
   "cell_type": "code",
   "execution_count": 6,
   "metadata": {
    "collapsed": true
   },
   "outputs": [],
   "source": [
    "import ipywidgets as widgets"
   ]
  },
  {
   "cell_type": "code",
   "execution_count": 7,
   "metadata": {
    "collapsed": false
   },
   "outputs": [
    {
     "data": {
      "text/plain": [
       "['Bonds (all bond types except ETCs and ETNs)',\n",
       " 'Structured Finance Products (SFPs)',\n",
       " 'Securitised Derivatives',\n",
       " 'Interest Rate Derivatives',\n",
       " 'Equity Derivatives',\n",
       " 'Commodity Derivatives',\n",
       " 'Foreign Exchange Derivatives',\n",
       " 'Credit Derivatives',\n",
       " 'C10 derivatives',\n",
       " 'Financial contracts for differences (CFDs)',\n",
       " 'Emission allowances',\n",
       " 'Emission allowance derivatives']"
      ]
     },
     "execution_count": 7,
     "metadata": {},
     "output_type": "execute_result"
    }
   ],
   "source": [
    "asset_classes = rts2_annex3.class_root.asset_classes\n",
    "asset_class_names = [an_asset_class.name for an_asset_class in asset_classes]\n",
    "asset_class_names"
   ]
  },
  {
   "cell_type": "code",
   "execution_count": 8,
   "metadata": {
    "collapsed": false
   },
   "outputs": [],
   "source": [
    "asset_class_widget = widgets.Dropdown(\n",
    "    options=asset_class_names,\n",
    "    value=asset_class_names[0],\n",
    "    description='Asset Classes:',\n",
    "    disabled=False,\n",
    ")\n",
    "asset_class_widget"
   ]
  },
  {
   "cell_type": "code",
   "execution_count": 14,
   "metadata": {
    "collapsed": false
   },
   "outputs": [
    {
     "data": {
      "text/plain": [
       "['Sovereign Bond',\n",
       " 'Other Public Bond',\n",
       " 'Convertible Bond',\n",
       " 'Covered Bond',\n",
       " 'Corporate Bond',\n",
       " 'Other Bond']"
      ]
     },
     "execution_count": 14,
     "metadata": {},
     "output_type": "execute_result"
    }
   ],
   "source": [
    "selected_asset_class = rts2_annex3.class_root.asset_class_by_name(asset_class_widget.value)\n",
    "sub_asset_class_names = [\n",
    "    sub_asset_class.name \n",
    "    for sub_asset_class \n",
    "    in selected_asset_class.sub_asset_classes]\n",
    "sub_asset_class_names"
   ]
  },
  {
   "cell_type": "code",
   "execution_count": 10,
   "metadata": {
    "collapsed": true
   },
   "outputs": [],
   "source": [
    "sub_asset_class_widget = widgets.Dropdown(\n",
    "    options=sub_asset_class_names,\n",
    "    value=sub_asset_class_names[0],\n",
    "    description='Sub-asset Classes:',\n",
    "    disabled=False,\n",
    ")\n",
    "sub_asset_class_widget"
   ]
  },
  {
   "cell_type": "code",
   "execution_count": 11,
   "metadata": {
    "collapsed": true
   },
   "outputs": [],
   "source": [
    "from IPython.display import display"
   ]
  },
  {
   "cell_type": "code",
   "execution_count": 15,
   "metadata": {
    "collapsed": false
   },
   "outputs": [],
   "source": [
    "def asset_class_changed(change):\n",
    "    if change['type'] == 'change' and change['name'] == 'value':\n",
    "        asset_class_name = change['new']\n",
    "        selected_asset_class = rts2_annex3.class_root.asset_class_by_name(asset_class_name)\n",
    "        sub_asset_class_names = [sub_asset_class.name for sub_asset_class in selected_asset_class.sub_asset_classes]\n",
    "        sub_asset_class_widget.options = sub_asset_class_names\n",
    "        sub_asset_class_widget.value = sub_asset_class_names[0]\n",
    "\n",
    "asset_class_widget.observe(asset_class_changed)\n",
    "display(asset_class_widget)\n",
    "display(sub_asset_class_widget)\n"
   ]
  },
  {
   "cell_type": "code",
   "execution_count": 20,
   "metadata": {
    "collapsed": false
   },
   "outputs": [
    {
     "data": {
      "text/plain": [
       "3"
      ]
     },
     "metadata": {},
     "output_type": "display_data"
    }
   ],
   "source": [
    "from ipywidgets import interact\n",
    "@interact(x=dict(a=1,b=2,c=3))\n",
    "def xx(x):\n",
    "    return x"
   ]
  },
  {
   "cell_type": "code",
   "execution_count": 21,
   "metadata": {
    "collapsed": false
   },
   "outputs": [
    {
     "name": "stdout",
     "output_type": "stream",
     "text": [
      "Button clicked.\n"
     ]
    }
   ],
   "source": [
    "from IPython.display import display\n",
    "button = widgets.Button(description=\"Click Me!\")\n",
    "display(button)\n",
    "\n",
    "def on_button_clicked(b):\n",
    "    print(\"Button clicked.\")\n",
    "\n",
    "button.on_click(on_button_clicked)"
   ]
  }
 ],
 "metadata": {
  "kernelspec": {
   "display_name": "Python 3",
   "language": "python",
   "name": "python3"
  },
  "language_info": {
   "codemirror_mode": {
    "name": "ipython",
    "version": 3
   },
   "file_extension": ".py",
   "mimetype": "text/x-python",
   "name": "python",
   "nbconvert_exporter": "python",
   "pygments_lexer": "ipython3",
   "version": "3.5.3"
  },
  "widgets": {
   "state": {
    "197adf97b18e4aa286f60bb6ee223c4e": {
     "views": [
      {
       "cell_index": 7
      },
      {
       "cell_index": 11
      }
     ]
    },
    "35fce8cf8c434707826736f0a3d9788c": {
     "views": [
      {
       "cell_index": 12
      }
     ]
    },
    "3e6b0f69c25b445d80b995b019e2673d": {
     "views": [
      {
       "cell_index": 9
      },
      {
       "cell_index": 11
      },
      {
       "cell_index": 11
      }
     ]
    },
    "88c9e42467bf44dbbda6f07b7da3f419": {
     "views": [
      {
       "cell_index": 13
      }
     ]
    }
   },
   "version": "1.2.0"
  }
 },
 "nbformat": 4,
 "nbformat_minor": 2
}
