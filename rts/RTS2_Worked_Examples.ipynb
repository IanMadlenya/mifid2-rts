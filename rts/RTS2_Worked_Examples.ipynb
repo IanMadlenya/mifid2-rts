{
 "cells": [
  {
   "cell_type": "markdown",
   "metadata": {},
   "source": [
    "## MiFID II classification of trades using the RTS 2 Annex 3 taxonomy.\n",
    "\n",
    "Governments would prefer to avoid another financial crisis like the one in 2008 and beleive that making the big players operate in a more open and transparent way will help avoid another crash.\n",
    "\n",
    "Markets in Financial Instruments Directive II (MiFID II) is an EU law which has market transparency as its key objective.  The predecessor law, MiFID I, only looked at a part of what banking firms do.  MiFID II aims to cover most mainstream activity.\n",
    "\n",
    "Governments rely on regulators to make sure that their laws are being followed.  For MiFID II the primary regulator is ESMA.  ESMA have produced a number of Regulatory Technical Standard (RTS) documents which aim to explain what banking firms must do to comply with the MiFID II law.\n",
    "\n",
    "One of the RTS documents, RTS 2, explains how different kinds of trading activity can be identified.  Having a clear way to say what has been traded is an important part of making the markets more transparent.\n",
    "\n",
    "Some kinds of trading activity is already pretty transparent, for example buying and selling shares in a public company.  Trades of this kind are mostly done using a public exchange, such as the New York or London stock exchanges.  The 'price' for a given stock is simply the amount of money paid in the most recent trade and this price is made public by the exchange so everyone can see what the latest price is.  It is pretty easy to identify what has been traded because each stock has a identifier, e.g. 'AAPL' identifies Apple Inc. shares.\n",
    "\n",
    "Not all trades happen on public exchanges.  Many trades happen directly between two parties and these are known as over the counter (OTC) trades.  Each OTC trade can be fine tuned, for example setting payment dates and interest rates.  The fine tuning of OTC deals makes it hard to identify what has been traded, but this is where RTS 2 comes in. \n",
    "\n",
    "The easyest way to understand what RTS 2 is all about is to use it to classify some trades, and you can do just that below.\n"
   ]
  },
  {
   "cell_type": "code",
   "execution_count": 191,
   "metadata": {
    "collapsed": false
   },
   "outputs": [],
   "source": [
    "#import sys\n",
    "#sys.path.append('/home/bbadger/bag/data/dev/mifid2-rts/mifid2-rts/rts')\n",
    "import rts2_annex3\n",
    "import datetime"
   ]
  },
  {
   "cell_type": "code",
   "execution_count": 192,
   "metadata": {
    "collapsed": false
   },
   "outputs": [],
   "source": [
    "class SampleTrade(object):\n",
    "    pass\n",
    "\n",
    "sample_trade = SampleTrade()\n",
    "sample_trade.asset_class_name = 'Foreign Exchange Derivatives'\n",
    "sample_trade.sub_asset_class_name= 'Deliverable FX options (DO)'\n",
    "sample_trade.underlying_currency_pair = ('GBP', 'USD')\n",
    "sample_trade.from_date = datetime.date(2017, 8, 13)\n",
    "sample_trade.to_date = datetime.date(2017, 10, 12)"
   ]
  },
  {
   "cell_type": "code",
   "execution_count": 193,
   "metadata": {
    "collapsed": true
   },
   "outputs": [],
   "source": [
    "sample_classification = rts2_annex3.class_root.classification_for(sample_trade)"
   ]
  },
  {
   "cell_type": "code",
   "execution_count": 194,
   "metadata": {
    "collapsed": false
   },
   "outputs": [
    {
     "data": {
      "text/plain": [
       "{'Asset class': 'Foreign Exchange Derivatives',\n",
       " 'RTS2 version': 'Brussels, 14.7.2016 C(2016) 4301 final ANNEXES 1 to 4',\n",
       " 'Segmentation criterion 1': \"('GBP', 'USD')\",\n",
       " 'Segmentation criterion 1 description': 'underlying currency pair defined as combination of the two currencies underlying the derivative contract',\n",
       " 'Segmentation criterion 2': 'Maturity bucket 2: 1 week to 3 months',\n",
       " 'Segmentation criterion 2 description': 'time to maturity bucket of the swap defined as follows:',\n",
       " 'Sub-asset class': 'Deliverable FX options (DO)'}"
      ]
     },
     "execution_count": 194,
     "metadata": {},
     "output_type": "execute_result"
    }
   ],
   "source": [
    "sample_classification.classification_dict()"
   ]
  },
  {
   "cell_type": "code",
   "execution_count": 195,
   "metadata": {
    "collapsed": true
   },
   "outputs": [],
   "source": [
    "import ipywidgets as widgets"
   ]
  },
  {
   "cell_type": "code",
   "execution_count": 196,
   "metadata": {
    "collapsed": false
   },
   "outputs": [],
   "source": [
    "asset_classes = rts2_annex3.class_root.asset_classes\n",
    "asset_class_names = [an_asset_class.name for an_asset_class in asset_classes]\n",
    "asset_class_dict = dict([\n",
    "        (an_asset_class.name, an_asset_class) \n",
    "        for an_asset_class \n",
    "        in asset_classes])"
   ]
  },
  {
   "cell_type": "code",
   "execution_count": 197,
   "metadata": {
    "collapsed": false
   },
   "outputs": [],
   "source": [
    "asset_class_widget = widgets.Dropdown(\n",
    "    options=asset_class_dict,\n",
    "    # value=asset_class_dict[asset_class_names[0]],\n",
    "    description='Asset Classes:',\n",
    "    disabled=False,\n",
    ")\n",
    "asset_class_widget"
   ]
  },
  {
   "cell_type": "code",
   "execution_count": 198,
   "metadata": {
    "collapsed": false
   },
   "outputs": [],
   "source": [
    "#selected_asset_class = rts2_annex3.class_root.asset_class_by_name(asset_class_widget.value)\n",
    "selected_asset_class = asset_class_widget.value\n",
    "sub_asset_class_names = [\n",
    "    sub_asset_class.name \n",
    "    for sub_asset_class \n",
    "    in selected_asset_class.sub_asset_classes]\n",
    "sub_asset_class_dict = dict([\n",
    "    (sub_asset_class.name, sub_asset_class) \n",
    "    for sub_asset_class \n",
    "    in selected_asset_class.sub_asset_classes])"
   ]
  },
  {
   "cell_type": "code",
   "execution_count": 199,
   "metadata": {
    "collapsed": false
   },
   "outputs": [],
   "source": [
    "sub_asset_class_widget = widgets.Dropdown(\n",
    "    options=sub_asset_class_dict,\n",
    "    # value=sub_asset_class_names[0],\n",
    "    description='Sub-asset Classes:',\n",
    "    disabled=False,\n",
    ")\n",
    "sub_asset_class_widget"
   ]
  },
  {
   "cell_type": "code",
   "execution_count": 200,
   "metadata": {
    "collapsed": false
   },
   "outputs": [],
   "source": [
    "criteria_vbox = widgets.VBox([])"
   ]
  },
  {
   "cell_type": "code",
   "execution_count": 201,
   "metadata": {
    "collapsed": true
   },
   "outputs": [],
   "source": [
    "from IPython.display import display"
   ]
  },
  {
   "cell_type": "code",
   "execution_count": 202,
   "metadata": {
    "collapsed": false
   },
   "outputs": [],
   "source": [
    "def criteria_widgets(sub_asset_class):\n",
    "    # OK, in here I need to look up the criteria for the\n",
    "    # sub-asset class and build the widgets in rows of HBox es\n",
    "    return [\n",
    "        widgets.Label(sub_asset_class.name + \" L1\"),\n",
    "        widgets.Label(sub_asset_class.name + \" L2\")\n",
    "    ]\n",
    "    \n",
    "def asset_class_changed(change):\n",
    "    if change['type'] == 'change' and change['name'] == 'value':\n",
    "        selected_asset_class = change['new']\n",
    "        sub_asset_class_names = [sub_asset_class.name for sub_asset_class in selected_asset_class.sub_asset_classes]\n",
    "        sub_asset_class_dict = dict([\n",
    "            (sub_asset_class.name, sub_asset_class) \n",
    "            for sub_asset_class \n",
    "            in selected_asset_class.sub_asset_classes])\n",
    "        sub_asset_class_widget.options = sub_asset_class_dict\n",
    "        \n",
    "def sub_asset_class_changed(change):\n",
    "    if change['type'] == 'change' and change['name'] == 'value':\n",
    "        selected_sub_asset_class = change['new']\n",
    "        criteria_vbox.children = criteria_widgets(selected_sub_asset_class)\n",
    "\n",
    "asset_class_widget.observe(asset_class_changed)\n",
    "sub_asset_class_widget.observe(sub_asset_class_changed)\n",
    "display(asset_class_widget)\n",
    "display(sub_asset_class_widget)\n",
    "criteria_vbox.children = criteria_widgets(sub_asset_class_widget.value)\n",
    "display(criteria_vbox)\n"
   ]
  },
  {
   "cell_type": "code",
   "execution_count": 203,
   "metadata": {
    "collapsed": false
   },
   "outputs": [],
   "source": [
    "# help(widgets.VBox)\n",
    "# help(widgets.Label)\n",
    "l_1 = widgets.Label(\"L1\")\n",
    "vbox_1 = widgets.VBox([widgets.Label(\"xx\"), l_1])\n",
    "display(vbox_1)\n",
    "l_2 = widgets.Label(\"L2\")\n",
    "vbox_1.children = ([widgets.Label(\"yy\"), l_2])\n",
    "display(vbox_1)"
   ]
  },
  {
   "cell_type": "code",
   "execution_count": 204,
   "metadata": {
    "collapsed": false
   },
   "outputs": [
    {
     "data": {
      "text/plain": [
       "'C10 derivatives'"
      ]
     },
     "execution_count": 204,
     "metadata": {},
     "output_type": "execute_result"
    }
   ],
   "source": [
    "sub_asset_class_widget.value.parent.name"
   ]
  },
  {
   "cell_type": "code",
   "execution_count": 205,
   "metadata": {
    "collapsed": false
   },
   "outputs": [
    {
     "data": {
      "text/plain": [
       "1"
      ]
     },
     "metadata": {},
     "output_type": "display_data"
    }
   ],
   "source": [
    "from ipywidgets import interact\n",
    "@interact(x=dict(a=1,b=2,c=3))\n",
    "def xx(x):\n",
    "    return x"
   ]
  },
  {
   "cell_type": "code",
   "execution_count": 206,
   "metadata": {
    "collapsed": false
   },
   "outputs": [],
   "source": [
    "from IPython.display import display\n",
    "button = widgets.Button(description=\"Click Me!\")\n",
    "display(button)\n",
    "\n",
    "def on_button_clicked(b):\n",
    "    print(\"Button clicked.\")\n",
    "\n",
    "button.on_click(on_button_clicked)"
   ]
  }
 ],
 "metadata": {
  "kernelspec": {
   "display_name": "Python 3",
   "language": "python",
   "name": "python3"
  },
  "language_info": {
   "codemirror_mode": {
    "name": "ipython",
    "version": 3
   },
   "file_extension": ".py",
   "mimetype": "text/x-python",
   "name": "python",
   "nbconvert_exporter": "python",
   "pygments_lexer": "ipython3",
   "version": "3.5.3"
  },
  "widgets": {
   "state": {
    "01b8b86bbea744f7a29f252141efbba1": {
     "views": [
      {
       "cell_index": 12
      }
     ]
    },
    "058478d9f1404574b561808860fcef95": {
     "views": [
      {
       "cell_index": 9
      },
      {
       "cell_index": 12
      }
     ]
    },
    "09d3cbce75ab4863aebfaf4177cf662d": {
     "views": [
      {
       "cell_index": 13
      }
     ]
    },
    "102f1426a0c749638caaedf3d07abb54": {
     "views": [
      {
       "cell_index": 13
      }
     ]
    },
    "130e9042771f4f688a8aeb89ef10046b": {
     "views": [
      {
       "cell_index": 15
      }
     ]
    },
    "322b090c052142d2aef61b3eadf80fc5": {
     "views": [
      {
       "cell_index": 11
      }
     ]
    },
    "3e6b0f69c25b445d80b995b019e2673d": {
     "views": [
      {
       "cell_index": 11
      },
      {
       "cell_index": 11
      }
     ]
    },
    "67d80b9785d64516b85d417583f46fe0": {
     "views": [
      {
       "cell_index": 12
      }
     ]
    },
    "6ed3ef3611594db19e871e736800bd50": {
     "views": [
      {
       "cell_index": 11
      },
      {
       "cell_index": 12
      },
      {
       "cell_index": 12
      },
      {
       "cell_index": 12
      },
      {
       "cell_index": 12
      }
     ]
    },
    "74ba98a0876249b5aa28b625ca475b1c": {
     "views": [
      {
       "cell_index": 11
      },
      {
       "cell_index": 11
      }
     ]
    },
    "768d9ac85fba42b5acd4e8369c25543e": {
     "views": [
      {
       "cell_index": 11
      }
     ]
    },
    "7b0c5a5910e64b84be0eb30c7868c873": {
     "views": [
      {
       "cell_index": 11
      }
     ]
    },
    "8f0be33a3d7547f4901e92d36966055e": {
     "views": [
      {
       "cell_index": 12
      }
     ]
    },
    "ae5ab0b3138d487b8701ce7729c72608": {
     "views": [
      {
       "cell_index": 11
      }
     ]
    },
    "bae985c696534f109ded7b5321db6778": {
     "views": [
      {
       "cell_index": 7
      },
      {
       "cell_index": 12
      }
     ]
    },
    "bb914744f9c94a7783e2d90587c308f9": {
     "views": [
      {
       "cell_index": 12
      }
     ]
    },
    "c67bba9db54043309dd06a19348048a9": {
     "views": [
      {
       "cell_index": 13
      }
     ]
    },
    "c6c682a6437e47a796a53493af64c56d": {
     "views": [
      {
       "cell_index": 12
      }
     ]
    },
    "cbb6d574bcfb43abaa3c4f8af076c5c4": {
     "views": [
      {
       "cell_index": 13
      }
     ]
    },
    "dac4a9c76cc7488f80ec645a8de6dc8f": {
     "views": [
      {
       "cell_index": 12
      }
     ]
    },
    "e4cec7311af84354a24a04d085d54ac0": {
     "views": [
      {
       "cell_index": 16
      }
     ]
    },
    "e7b6d217912a41ebbc7d9e0bf09a61e1": {
     "views": [
      {
       "cell_index": 11
      },
      {
       "cell_index": 11
      }
     ]
    },
    "f6625cb5ae2242abb928d1a72aa2d614": {
     "views": [
      {
       "cell_index": 13
      },
      {
       "cell_index": 13
      }
     ]
    }
   },
   "version": "1.2.0"
  }
 },
 "nbformat": 4,
 "nbformat_minor": 2
}
